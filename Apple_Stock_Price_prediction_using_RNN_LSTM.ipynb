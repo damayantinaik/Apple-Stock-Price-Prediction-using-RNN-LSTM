{
 "cells": [
  {
   "cell_type": "markdown",
   "metadata": {},
   "source": [
    "# Apple Stock Price Prediction using RNN-LSTM"
   ]
  },
  {
   "cell_type": "markdown",
   "metadata": {},
   "source": [
    "## Introduction:"
   ]
  },
  {
   "cell_type": "markdown",
   "metadata": {},
   "source": [
    "In this project I am going to predict Apple stock price using Long Short-Term Memory(LSTM) network \n",
    "of Recurrent Neural Network (RNN).\n",
    "\n",
    "RNN works with sequential data i.e when the data at a certain time depends on the data in previous time steps.\n",
    "For example: data of daily stock price, words in order in a sentence, historical unemployment figure etc.\n",
    "\n",
    "In RNN, the outputs from the hidden layers loops back and goes into hidden layer again. The reason, RNN needs to have the output of the hidden layer loops back because the prediction or ultimate output from the network is based on the current and historic data.\n",
    "\n",
    "In a LSTM, it has the ability to remember longer sequences of data than an ordinary RNN. It categorizes data into short-term and long-term memory. By doing this, it remembers the important data, loops back those in the network for prediction and forgets the other. This enables LSTM to use long sequence of data to make prediction. "
   ]
  },
  {
   "cell_type": "markdown",
   "metadata": {},
   "source": [
    "## Import Python Libraries"
   ]
  },
  {
   "cell_type": "code",
   "execution_count": 1,
   "metadata": {},
   "outputs": [],
   "source": [
    "import numpy as np\n",
    "import pandas as pd\n",
    "import matplotlib.pyplot as plt"
   ]
  },
  {
   "cell_type": "markdown",
   "metadata": {},
   "source": [
    "## Import data "
   ]
  },
  {
   "cell_type": "markdown",
   "metadata": {},
   "source": [
    "For this project, I downloaded the stock price data from Nasdaq website, saved it in csv format 'apple_stock_data.csv' and imported in the following cell.   "
   ]
  },
  {
   "cell_type": "code",
   "execution_count": 2,
   "metadata": {},
   "outputs": [],
   "source": [
    "all_apple_stock_data = pd.read_csv('apple_stock_data.csv')"
   ]
  },
  {
   "cell_type": "code",
   "execution_count": 3,
   "metadata": {},
   "outputs": [
    {
     "data": {
      "text/html": [
       "<div>\n",
       "<style scoped>\n",
       "    .dataframe tbody tr th:only-of-type {\n",
       "        vertical-align: middle;\n",
       "    }\n",
       "\n",
       "    .dataframe tbody tr th {\n",
       "        vertical-align: top;\n",
       "    }\n",
       "\n",
       "    .dataframe thead th {\n",
       "        text-align: right;\n",
       "    }\n",
       "</style>\n",
       "<table border=\"1\" class=\"dataframe\">\n",
       "  <thead>\n",
       "    <tr style=\"text-align: right;\">\n",
       "      <th></th>\n",
       "      <th>Date</th>\n",
       "      <th>Close/Last</th>\n",
       "      <th>Volume</th>\n",
       "      <th>Open</th>\n",
       "      <th>High</th>\n",
       "      <th>Low</th>\n",
       "    </tr>\n",
       "  </thead>\n",
       "  <tbody>\n",
       "    <tr>\n",
       "      <th>0</th>\n",
       "      <td>07/27/2023</td>\n",
       "      <td>$193.22</td>\n",
       "      <td>47460180</td>\n",
       "      <td>$196.02</td>\n",
       "      <td>$197.20</td>\n",
       "      <td>$192.55</td>\n",
       "    </tr>\n",
       "    <tr>\n",
       "      <th>1</th>\n",
       "      <td>07/26/2023</td>\n",
       "      <td>$194.50</td>\n",
       "      <td>47471870</td>\n",
       "      <td>$193.67</td>\n",
       "      <td>$195.64</td>\n",
       "      <td>$193.32</td>\n",
       "    </tr>\n",
       "    <tr>\n",
       "      <th>2</th>\n",
       "      <td>07/25/2023</td>\n",
       "      <td>$193.62</td>\n",
       "      <td>37283200</td>\n",
       "      <td>$193.33</td>\n",
       "      <td>$194.44</td>\n",
       "      <td>$192.915</td>\n",
       "    </tr>\n",
       "    <tr>\n",
       "      <th>3</th>\n",
       "      <td>07/24/2023</td>\n",
       "      <td>$192.75</td>\n",
       "      <td>45505100</td>\n",
       "      <td>$193.41</td>\n",
       "      <td>$194.91</td>\n",
       "      <td>$192.25</td>\n",
       "    </tr>\n",
       "    <tr>\n",
       "      <th>4</th>\n",
       "      <td>07/21/2023</td>\n",
       "      <td>$191.94</td>\n",
       "      <td>71951680</td>\n",
       "      <td>$194.10</td>\n",
       "      <td>$194.97</td>\n",
       "      <td>$191.23</td>\n",
       "    </tr>\n",
       "  </tbody>\n",
       "</table>\n",
       "</div>"
      ],
      "text/plain": [
       "         Date Close/Last    Volume     Open     High       Low\n",
       "0  07/27/2023    $193.22  47460180  $196.02  $197.20   $192.55\n",
       "1  07/26/2023    $194.50  47471870  $193.67  $195.64   $193.32\n",
       "2  07/25/2023    $193.62  37283200  $193.33  $194.44  $192.915\n",
       "3  07/24/2023    $192.75  45505100  $193.41  $194.91   $192.25\n",
       "4  07/21/2023    $191.94  71951680  $194.10  $194.97   $191.23"
      ]
     },
     "execution_count": 3,
     "metadata": {},
     "output_type": "execute_result"
    }
   ],
   "source": [
    "all_apple_stock_data.head()"
   ]
  },
  {
   "cell_type": "code",
   "execution_count": 4,
   "metadata": {},
   "outputs": [
    {
     "data": {
      "text/plain": [
       "(124, 6)"
      ]
     },
     "execution_count": 4,
     "metadata": {},
     "output_type": "execute_result"
    }
   ],
   "source": [
    "all_apple_stock_data.shape"
   ]
  },
  {
   "cell_type": "markdown",
   "metadata": {},
   "source": [
    "## Data Wrangling"
   ]
  },
  {
   "cell_type": "markdown",
   "metadata": {},
   "source": [
    "Here, I am going to use only the 'Open' column, but it contians the $ sign before each value, hence I removed it."
   ]
  },
  {
   "cell_type": "code",
   "execution_count": 5,
   "metadata": {},
   "outputs": [],
   "source": [
    "all_apple_stock_data['Open'] = all_apple_stock_data['Open'].apply(lambda x:x[1:]).astype('float')"
   ]
  },
  {
   "cell_type": "code",
   "execution_count": 6,
   "metadata": {},
   "outputs": [
    {
     "data": {
      "text/plain": [
       "Date           object\n",
       "Close/Last     object\n",
       "Volume          int64\n",
       "Open          float64\n",
       "High           object\n",
       "Low            object\n",
       "dtype: object"
      ]
     },
     "execution_count": 6,
     "metadata": {},
     "output_type": "execute_result"
    }
   ],
   "source": [
    "all_apple_stock_data.dtypes"
   ]
  },
  {
   "cell_type": "code",
   "execution_count": 7,
   "metadata": {},
   "outputs": [
    {
     "data": {
      "text/plain": [
       "count    124.000000\n",
       "mean     168.795048\n",
       "std       15.340196\n",
       "min      142.700000\n",
       "25%      153.782500\n",
       "50%      166.347500\n",
       "75%      182.672500\n",
       "max      196.020000\n",
       "Name: Open, dtype: float64"
      ]
     },
     "execution_count": 7,
     "metadata": {},
     "output_type": "execute_result"
    }
   ],
   "source": [
    "all_apple_stock_data['Open'].describe()"
   ]
  },
  {
   "cell_type": "code",
   "execution_count": 8,
   "metadata": {},
   "outputs": [],
   "source": [
    "apple_open_prices = all_apple_stock_data[['Open']].values"
   ]
  },
  {
   "cell_type": "markdown",
   "metadata": {},
   "source": [
    "## Data Preprocessing: Scaling data"
   ]
  },
  {
   "cell_type": "code",
   "execution_count": 9,
   "metadata": {},
   "outputs": [],
   "source": [
    "from sklearn.preprocessing import MinMaxScaler"
   ]
  },
  {
   "cell_type": "code",
   "execution_count": 10,
   "metadata": {},
   "outputs": [],
   "source": [
    "scaler = MinMaxScaler(feature_range = (0, 1))"
   ]
  },
  {
   "cell_type": "code",
   "execution_count": 11,
   "metadata": {},
   "outputs": [],
   "source": [
    "apple_prices_scaled = scaler.fit_transform(apple_open_prices)"
   ]
  },
  {
   "cell_type": "code",
   "execution_count": 12,
   "metadata": {},
   "outputs": [
    {
     "data": {
      "text/plain": [
       "array([[1.        ],\n",
       "       [0.95592648],\n",
       "       [0.94954989],\n",
       "       [0.95105026],\n",
       "       [0.963991  ],\n",
       "       [0.98255814],\n",
       "       [0.94523631],\n",
       "       [0.94992498],\n",
       "       [0.92273068],\n",
       "       [0.89141035],\n",
       "       [0.89647412],\n",
       "       [0.88109527],\n",
       "       [0.87134284],\n",
       "       [0.8732183 ],\n",
       "       [0.91354089],\n",
       "       [0.88409602],\n",
       "       [0.91644786],\n",
       "       [0.9579895 ],\n",
       "       [0.91766692],\n",
       "       [0.86984246],\n",
       "       [0.84827457],\n",
       "       [0.810015  ],\n",
       "       [0.82764441],\n",
       "       [0.80363841],\n",
       "       [0.76969242],\n",
       "       [0.79144786],\n",
       "       [0.78225806],\n",
       "       [0.82576894],\n",
       "       [0.77381845],\n",
       "       [0.76275319],\n",
       "       [0.75206302],\n",
       "       [0.72336834],\n",
       "       [0.72768192],\n",
       "       [0.66007127],\n",
       "       [0.67029257],\n",
       "       [0.69889347],\n",
       "       [0.74887472],\n",
       "       [0.71886722],\n",
       "       [0.6564141 ],\n",
       "       [0.6493811 ],\n",
       "       [0.64253563],\n",
       "       [0.57426857],\n",
       "       [0.5572018 ],\n",
       "       [0.53244561],\n",
       "       [0.57070518],\n",
       "       [0.58664666],\n",
       "       [0.63184546],\n",
       "       [0.56826707],\n",
       "       [0.54407352],\n",
       "       [0.54932483],\n",
       "       [0.57126782],\n",
       "       [0.57989497],\n",
       "       [0.58420855],\n",
       "       [0.56864216],\n",
       "       [0.5692048 ],\n",
       "       [0.55851463],\n",
       "       [0.53028882],\n",
       "       [0.41616654],\n",
       "       [0.50262566],\n",
       "       [0.51369092],\n",
       "       [0.49849962],\n",
       "       [0.48368342],\n",
       "       [0.42179295],\n",
       "       [0.38175169],\n",
       "       [0.42179295],\n",
       "       [0.41822956],\n",
       "       [0.41916729],\n",
       "       [0.43867217],\n",
       "       [0.43323331],\n",
       "       [0.43885971],\n",
       "       [0.41991748],\n",
       "       [0.41054014],\n",
       "       [0.35502626],\n",
       "       [0.34733683],\n",
       "       [0.36852963],\n",
       "       [0.35108777],\n",
       "       [0.37003001],\n",
       "       [0.41335334],\n",
       "       [0.44814329],\n",
       "       [0.40453863],\n",
       "       [0.37021755],\n",
       "       [0.35315079],\n",
       "       [0.31264066],\n",
       "       [0.2863841 ],\n",
       "       [0.32333083],\n",
       "       [0.30307577],\n",
       "       [0.30251313],\n",
       "       [0.31132783],\n",
       "       [0.27419355],\n",
       "       [0.2319955 ],\n",
       "       [0.25093773],\n",
       "       [0.17741935],\n",
       "       [0.15922731],\n",
       "       [0.16091523],\n",
       "       [0.09574269],\n",
       "       [0.14084771],\n",
       "       [0.20365716],\n",
       "       [0.1896099 ],\n",
       "       [0.20630158],\n",
       "       [0.20789572],\n",
       "       [0.10024381],\n",
       "       [0.03150788],\n",
       "       [0.07745686],\n",
       "       [0.0815829 ],\n",
       "       [0.09396099],\n",
       "       [0.08270818],\n",
       "       [0.13859715],\n",
       "       [0.11571643],\n",
       "       [0.14066017],\n",
       "       [0.18098275],\n",
       "       [0.20273818],\n",
       "       [0.19523631],\n",
       "       [0.17666917],\n",
       "       [0.15476369],\n",
       "       [0.1267817 ],\n",
       "       [0.20770818],\n",
       "       [0.20967742],\n",
       "       [0.14891223],\n",
       "       [0.18520255],\n",
       "       [0.09996249],\n",
       "       [0.11627907],\n",
       "       [0.02381845],\n",
       "       [0.        ],\n",
       "       [0.04229182]])"
      ]
     },
     "execution_count": 12,
     "metadata": {},
     "output_type": "execute_result"
    }
   ],
   "source": [
    "apple_prices_scaled"
   ]
  },
  {
   "cell_type": "code",
   "execution_count": 13,
   "metadata": {},
   "outputs": [],
   "source": [
    "num_of_prices = len(apple_prices_scaled)"
   ]
  },
  {
   "cell_type": "code",
   "execution_count": 14,
   "metadata": {},
   "outputs": [
    {
     "data": {
      "text/plain": [
       "124"
      ]
     },
     "execution_count": 14,
     "metadata": {},
     "output_type": "execute_result"
    }
   ],
   "source": [
    "num_of_prices"
   ]
  },
  {
   "cell_type": "markdown",
   "metadata": {},
   "source": [
    "## Forming Feature-label dataset, splitting into train & test datasets "
   ]
  },
  {
   "cell_type": "code",
   "execution_count": 15,
   "metadata": {},
   "outputs": [],
   "source": [
    "# Get the train and test sets from apple_prices_scaled\n",
    "apple_price_features = []\n",
    "apple_price_labels = []\n",
    "for i in range(10, (num_of_prices)):\n",
    "    apple_price_features.append(apple_prices_scaled[i-10:i, 0])\n",
    "    apple_price_labels.append(apple_prices_scaled[i, 0])"
   ]
  },
  {
   "cell_type": "markdown",
   "metadata": {},
   "source": [
    "Note: Here I am taking 10 past observations to predict the 11th observation. So past 10 observations are in apple_price_features and 11th is in apple_price_labels. "
   ]
  },
  {
   "cell_type": "code",
   "execution_count": 16,
   "metadata": {},
   "outputs": [
    {
     "data": {
      "text/plain": [
       "array([1.        , 0.95592648, 0.94954989, 0.95105026, 0.963991  ,\n",
       "       0.98255814, 0.94523631, 0.94992498, 0.92273068, 0.89141035])"
      ]
     },
     "execution_count": 16,
     "metadata": {},
     "output_type": "execute_result"
    }
   ],
   "source": [
    "apple_price_features[0]"
   ]
  },
  {
   "cell_type": "code",
   "execution_count": 17,
   "metadata": {},
   "outputs": [],
   "source": [
    "x_train = np.array(apple_price_features[:100])\n",
    "y_train = np.array(apple_price_labels[:100])"
   ]
  },
  {
   "cell_type": "code",
   "execution_count": 18,
   "metadata": {},
   "outputs": [
    {
     "name": "stdout",
     "output_type": "stream",
     "text": [
      "(100, 10)\n",
      "(100,)\n"
     ]
    }
   ],
   "source": [
    "print(x_train.shape)\n",
    "print(y_train.shape)"
   ]
  },
  {
   "cell_type": "markdown",
   "metadata": {},
   "source": [
    "Here, I need to convert the x_train dataset from 2D to 3D in order to input it into my DL model, because that is how LSTM neural network in keras are structured. "
   ]
  },
  {
   "cell_type": "code",
   "execution_count": 19,
   "metadata": {},
   "outputs": [],
   "source": [
    "x_train = np.reshape(x_train, (x_train.shape[0], x_train.shape[1], 1))"
   ]
  },
  {
   "cell_type": "code",
   "execution_count": 20,
   "metadata": {},
   "outputs": [
    {
     "data": {
      "text/plain": [
       "(100, 10, 1)"
      ]
     },
     "execution_count": 20,
     "metadata": {},
     "output_type": "execute_result"
    }
   ],
   "source": [
    "x_train.shape"
   ]
  },
  {
   "cell_type": "code",
   "execution_count": 21,
   "metadata": {},
   "outputs": [],
   "source": [
    "# x_train"
   ]
  },
  {
   "cell_type": "markdown",
   "metadata": {},
   "source": [
    "Note: Now this shows that x_train data has 100 groups of 10 coulmns. Each group has 10 rows and 1 columns. "
   ]
  },
  {
   "cell_type": "code",
   "execution_count": 22,
   "metadata": {},
   "outputs": [
    {
     "name": "stdout",
     "output_type": "stream",
     "text": [
      "[[[1.        ]\n",
      "  [0.95592648]\n",
      "  [0.94954989]\n",
      "  [0.95105026]\n",
      "  [0.963991  ]\n",
      "  [0.98255814]\n",
      "  [0.94523631]\n",
      "  [0.94992498]\n",
      "  [0.92273068]\n",
      "  [0.89141035]]\n",
      "\n",
      " [[0.95592648]\n",
      "  [0.94954989]\n",
      "  [0.95105026]\n",
      "  [0.963991  ]\n",
      "  [0.98255814]\n",
      "  [0.94523631]\n",
      "  [0.94992498]\n",
      "  [0.92273068]\n",
      "  [0.89141035]\n",
      "  [0.89647412]]]\n"
     ]
    }
   ],
   "source": [
    "print(x_train[(0): (2)])"
   ]
  },
  {
   "cell_type": "code",
   "execution_count": 23,
   "metadata": {},
   "outputs": [],
   "source": [
    "x_test = np.array(apple_price_features[101:])\n",
    "y_test = np.array(apple_price_labels[101:])"
   ]
  },
  {
   "cell_type": "code",
   "execution_count": 24,
   "metadata": {},
   "outputs": [],
   "source": [
    "x_test = np.reshape(x_test, (x_test.shape[0], x_test.shape[1], 1))"
   ]
  },
  {
   "cell_type": "code",
   "execution_count": 25,
   "metadata": {},
   "outputs": [
    {
     "data": {
      "text/plain": [
       "(13, 10, 1)"
      ]
     },
     "execution_count": 25,
     "metadata": {},
     "output_type": "execute_result"
    }
   ],
   "source": [
    "x_test.shape"
   ]
  },
  {
   "cell_type": "markdown",
   "metadata": {},
   "source": [
    "## Building RNN-LSTM model"
   ]
  },
  {
   "cell_type": "code",
   "execution_count": 26,
   "metadata": {},
   "outputs": [],
   "source": [
    "from tensorflow.keras.layers import Input, Dense, Dropout, LSTM\n",
    "from tensorflow.keras.models import Model\n",
    "\n",
    "input_layer = Input(shape = (x_train.shape[1], 1))                           # No need to specify how many groups there, only need how many rows in each group.\n",
    "lstm1 = LSTM(100, activation = 'relu', return_sequences = True)(input_layer) # Return_sequence = True => The output coming from the layer will match the dimensions\n",
    "                                                                             # of the input entered into the layer.\n",
    "                                                                             # 100 represents 100 neurons, inside each eurons there are Blocks, each block contains\n",
    "                                                                             # an input, output, update and forget gate. \n",
    "\n",
    "\n",
    "drop1 = Dropout(0.1)(lstm1)                                            # Dropout implies fraction of input units to drop. This helps to prevent overfitting (to training data)\n",
    "lstm2 = LSTM(120, activation = 'relu', return_sequences = True)(drop1) # Here 120 implies this layer contains 120 neurons.\n",
    "lstm3 = LSTM(80, activation = 'relu', return_sequences = True)(lstm2)\n",
    "lstm4 = LSTM(50, activation ='relu')(lstm3)                            # Here no return_sequences mentioned because it is by default 'False', because the outputdimension from this not same as the input layer as the output and it has only one number.\n",
    "\n",
    "\n",
    "output_layer = Dense(1)(lstm4)                                         # Here Dense(1) => 1 neuron in this layer, because it got one number only from previouslayer lstm4. \n",
    "\n",
    "\n",
    "model = Model(input_layer, output_layer)\n",
    "model.compile(optimizer = 'adam', loss = 'mse')                       # 'adam' optimizer is good for small amount of input data like here. "
   ]
  },
  {
   "cell_type": "code",
   "execution_count": 27,
   "metadata": {},
   "outputs": [
    {
     "name": "stdout",
     "output_type": "stream",
     "text": [
      "Model: \"model\"\n",
      "_________________________________________________________________\n",
      " Layer (type)                Output Shape              Param #   \n",
      "=================================================================\n",
      " input_1 (InputLayer)        [(None, 10, 1)]           0         \n",
      "                                                                 \n",
      " lstm (LSTM)                 (None, 10, 100)           40800     \n",
      "                                                                 \n",
      " dropout (Dropout)           (None, 10, 100)           0         \n",
      "                                                                 \n",
      " lstm_1 (LSTM)               (None, 10, 120)           106080    \n",
      "                                                                 \n",
      " lstm_2 (LSTM)               (None, 10, 80)            64320     \n",
      "                                                                 \n",
      " lstm_3 (LSTM)               (None, 50)                26200     \n",
      "                                                                 \n",
      " dense (Dense)               (None, 1)                 51        \n",
      "                                                                 \n",
      "=================================================================\n",
      "Total params: 237451 (927.54 KB)\n",
      "Trainable params: 237451 (927.54 KB)\n",
      "Non-trainable params: 0 (0.00 Byte)\n",
      "_________________________________________________________________\n"
     ]
    }
   ],
   "source": [
    "model.summary()"
   ]
  },
  {
   "cell_type": "code",
   "execution_count": 28,
   "metadata": {},
   "outputs": [
    {
     "name": "stdout",
     "output_type": "stream",
     "text": [
      "Epoch 1/100\n",
      "5/5 [==============================] - 7s 285ms/step - loss: 0.2849 - val_loss: 0.0121\n",
      "Epoch 2/100\n",
      "5/5 [==============================] - 0s 45ms/step - loss: 0.2111 - val_loss: 0.0049\n",
      "Epoch 3/100\n",
      "5/5 [==============================] - 0s 46ms/step - loss: 0.0759 - val_loss: 0.0854\n",
      "Epoch 4/100\n",
      "5/5 [==============================] - 0s 46ms/step - loss: 0.0417 - val_loss: 0.0405\n",
      "Epoch 5/100\n",
      "5/5 [==============================] - 0s 45ms/step - loss: 0.0275 - val_loss: 0.0252\n",
      "Epoch 6/100\n",
      "5/5 [==============================] - 0s 48ms/step - loss: 0.0271 - val_loss: 0.0399\n",
      "Epoch 7/100\n",
      "5/5 [==============================] - 0s 45ms/step - loss: 0.0181 - val_loss: 0.0516\n",
      "Epoch 8/100\n",
      "5/5 [==============================] - 0s 44ms/step - loss: 0.0152 - val_loss: 0.0261\n",
      "Epoch 9/100\n",
      "5/5 [==============================] - 0s 45ms/step - loss: 0.0127 - val_loss: 0.0214\n",
      "Epoch 10/100\n",
      "5/5 [==============================] - 0s 47ms/step - loss: 0.0078 - val_loss: 0.0177\n",
      "Epoch 11/100\n",
      "5/5 [==============================] - 0s 50ms/step - loss: 0.0049 - val_loss: 0.0090\n",
      "Epoch 12/100\n",
      "5/5 [==============================] - 0s 46ms/step - loss: 0.0041 - val_loss: 0.0076\n",
      "Epoch 13/100\n",
      "5/5 [==============================] - 0s 44ms/step - loss: 0.0042 - val_loss: 0.0061\n",
      "Epoch 14/100\n",
      "5/5 [==============================] - 0s 45ms/step - loss: 0.0038 - val_loss: 0.0064\n",
      "Epoch 15/100\n",
      "5/5 [==============================] - 0s 45ms/step - loss: 0.0033 - val_loss: 0.0062\n",
      "Epoch 16/100\n",
      "5/5 [==============================] - 0s 44ms/step - loss: 0.0033 - val_loss: 0.0066\n",
      "Epoch 17/100\n",
      "5/5 [==============================] - 0s 44ms/step - loss: 0.0032 - val_loss: 0.0063\n",
      "Epoch 18/100\n",
      "5/5 [==============================] - 0s 44ms/step - loss: 0.0030 - val_loss: 0.0062\n",
      "Epoch 19/100\n",
      "5/5 [==============================] - 0s 45ms/step - loss: 0.0030 - val_loss: 0.0059\n",
      "Epoch 20/100\n",
      "5/5 [==============================] - 0s 46ms/step - loss: 0.0027 - val_loss: 0.0060\n",
      "Epoch 21/100\n",
      "5/5 [==============================] - 0s 44ms/step - loss: 0.0027 - val_loss: 0.0059\n",
      "Epoch 22/100\n",
      "5/5 [==============================] - 0s 44ms/step - loss: 0.0027 - val_loss: 0.0060\n",
      "Epoch 23/100\n",
      "5/5 [==============================] - 0s 45ms/step - loss: 0.0025 - val_loss: 0.0061\n",
      "Epoch 24/100\n",
      "5/5 [==============================] - 0s 44ms/step - loss: 0.0025 - val_loss: 0.0061\n",
      "Epoch 25/100\n",
      "5/5 [==============================] - 0s 44ms/step - loss: 0.0024 - val_loss: 0.0062\n",
      "Epoch 26/100\n",
      "5/5 [==============================] - 0s 44ms/step - loss: 0.0024 - val_loss: 0.0062\n",
      "Epoch 27/100\n",
      "5/5 [==============================] - 0s 43ms/step - loss: 0.0023 - val_loss: 0.0062\n",
      "Epoch 28/100\n",
      "5/5 [==============================] - 0s 43ms/step - loss: 0.0023 - val_loss: 0.0062\n",
      "Epoch 29/100\n",
      "5/5 [==============================] - 0s 43ms/step - loss: 0.0021 - val_loss: 0.0060\n",
      "Epoch 30/100\n",
      "5/5 [==============================] - 0s 42ms/step - loss: 0.0023 - val_loss: 0.0060\n",
      "Epoch 31/100\n",
      "5/5 [==============================] - 0s 44ms/step - loss: 0.0023 - val_loss: 0.0057\n",
      "Epoch 32/100\n",
      "5/5 [==============================] - 0s 43ms/step - loss: 0.0022 - val_loss: 0.0057\n",
      "Epoch 33/100\n",
      "5/5 [==============================] - 0s 42ms/step - loss: 0.0021 - val_loss: 0.0056\n",
      "Epoch 34/100\n",
      "5/5 [==============================] - 0s 74ms/step - loss: 0.0023 - val_loss: 0.0056\n",
      "Epoch 35/100\n",
      "5/5 [==============================] - 0s 67ms/step - loss: 0.0021 - val_loss: 0.0054\n",
      "Epoch 36/100\n",
      "5/5 [==============================] - 0s 61ms/step - loss: 0.0022 - val_loss: 0.0054\n",
      "Epoch 37/100\n",
      "5/5 [==============================] - 0s 46ms/step - loss: 0.0021 - val_loss: 0.0053\n",
      "Epoch 38/100\n",
      "5/5 [==============================] - 0s 69ms/step - loss: 0.0021 - val_loss: 0.0053\n",
      "Epoch 39/100\n",
      "5/5 [==============================] - 0s 62ms/step - loss: 0.0020 - val_loss: 0.0052\n",
      "Epoch 40/100\n",
      "5/5 [==============================] - 0s 67ms/step - loss: 0.0020 - val_loss: 0.0052\n",
      "Epoch 41/100\n",
      "5/5 [==============================] - 0s 69ms/step - loss: 0.0020 - val_loss: 0.0051\n",
      "Epoch 42/100\n",
      "5/5 [==============================] - 0s 77ms/step - loss: 0.0020 - val_loss: 0.0051\n",
      "Epoch 43/100\n",
      "5/5 [==============================] - 0s 71ms/step - loss: 0.0020 - val_loss: 0.0050\n",
      "Epoch 44/100\n",
      "5/5 [==============================] - 0s 77ms/step - loss: 0.0022 - val_loss: 0.0051\n",
      "Epoch 45/100\n",
      "5/5 [==============================] - 0s 67ms/step - loss: 0.0025 - val_loss: 0.0050\n",
      "Epoch 46/100\n",
      "5/5 [==============================] - 0s 70ms/step - loss: 0.0020 - val_loss: 0.0050\n",
      "Epoch 47/100\n",
      "5/5 [==============================] - 0s 65ms/step - loss: 0.0022 - val_loss: 0.0050\n",
      "Epoch 48/100\n",
      "5/5 [==============================] - 0s 51ms/step - loss: 0.0019 - val_loss: 0.0050\n",
      "Epoch 49/100\n",
      "5/5 [==============================] - 0s 46ms/step - loss: 0.0021 - val_loss: 0.0049\n",
      "Epoch 50/100\n",
      "5/5 [==============================] - 0s 44ms/step - loss: 0.0018 - val_loss: 0.0050\n",
      "Epoch 51/100\n",
      "5/5 [==============================] - 0s 46ms/step - loss: 0.0019 - val_loss: 0.0051\n",
      "Epoch 52/100\n",
      "5/5 [==============================] - 0s 44ms/step - loss: 0.0020 - val_loss: 0.0050\n",
      "Epoch 53/100\n",
      "5/5 [==============================] - 0s 45ms/step - loss: 0.0019 - val_loss: 0.0049\n",
      "Epoch 54/100\n",
      "5/5 [==============================] - 0s 34ms/step - loss: 0.0022 - val_loss: 0.0048\n",
      "Epoch 55/100\n",
      "5/5 [==============================] - 0s 35ms/step - loss: 0.0021 - val_loss: 0.0048\n",
      "Epoch 56/100\n",
      "5/5 [==============================] - 0s 35ms/step - loss: 0.0022 - val_loss: 0.0050\n",
      "Epoch 57/100\n",
      "5/5 [==============================] - 0s 35ms/step - loss: 0.0024 - val_loss: 0.0050\n",
      "Epoch 58/100\n",
      "5/5 [==============================] - 0s 36ms/step - loss: 0.0023 - val_loss: 0.0050\n",
      "Epoch 59/100\n",
      "5/5 [==============================] - 0s 38ms/step - loss: 0.0024 - val_loss: 0.0048\n",
      "Epoch 60/100\n",
      "5/5 [==============================] - 0s 58ms/step - loss: 0.0022 - val_loss: 0.0049\n",
      "Epoch 61/100\n",
      "5/5 [==============================] - 0s 62ms/step - loss: 0.0019 - val_loss: 0.0050\n",
      "Epoch 62/100\n",
      "5/5 [==============================] - 0s 41ms/step - loss: 0.0019 - val_loss: 0.0051\n",
      "Epoch 63/100\n",
      "5/5 [==============================] - 0s 45ms/step - loss: 0.0022 - val_loss: 0.0052\n",
      "Epoch 64/100\n",
      "5/5 [==============================] - 0s 72ms/step - loss: 0.0017 - val_loss: 0.0051\n",
      "Epoch 65/100\n",
      "5/5 [==============================] - 0s 69ms/step - loss: 0.0021 - val_loss: 0.0049\n",
      "Epoch 66/100\n",
      "5/5 [==============================] - 0s 46ms/step - loss: 0.0020 - val_loss: 0.0050\n",
      "Epoch 67/100\n",
      "5/5 [==============================] - 0s 62ms/step - loss: 0.0019 - val_loss: 0.0050\n",
      "Epoch 68/100\n",
      "5/5 [==============================] - 0s 47ms/step - loss: 0.0021 - val_loss: 0.0050\n",
      "Epoch 69/100\n",
      "5/5 [==============================] - 0s 57ms/step - loss: 0.0022 - val_loss: 0.0050\n",
      "Epoch 70/100\n",
      "5/5 [==============================] - 0s 43ms/step - loss: 0.0019 - val_loss: 0.0050\n",
      "Epoch 71/100\n",
      "5/5 [==============================] - 0s 47ms/step - loss: 0.0020 - val_loss: 0.0050\n",
      "Epoch 72/100\n",
      "5/5 [==============================] - 0s 49ms/step - loss: 0.0022 - val_loss: 0.0049\n",
      "Epoch 73/100\n",
      "5/5 [==============================] - 0s 53ms/step - loss: 0.0021 - val_loss: 0.0051\n",
      "Epoch 74/100\n",
      "5/5 [==============================] - 0s 46ms/step - loss: 0.0021 - val_loss: 0.0049\n",
      "Epoch 75/100\n",
      "5/5 [==============================] - 0s 47ms/step - loss: 0.0019 - val_loss: 0.0051\n",
      "Epoch 76/100\n",
      "5/5 [==============================] - 0s 51ms/step - loss: 0.0018 - val_loss: 0.0053\n",
      "Epoch 77/100\n",
      "5/5 [==============================] - 0s 44ms/step - loss: 0.0019 - val_loss: 0.0052\n",
      "Epoch 78/100\n",
      "5/5 [==============================] - 0s 42ms/step - loss: 0.0021 - val_loss: 0.0051\n",
      "Epoch 79/100\n",
      "5/5 [==============================] - 0s 43ms/step - loss: 0.0021 - val_loss: 0.0051\n",
      "Epoch 80/100\n",
      "5/5 [==============================] - 0s 44ms/step - loss: 0.0021 - val_loss: 0.0052\n",
      "Epoch 81/100\n",
      "5/5 [==============================] - 0s 45ms/step - loss: 0.0021 - val_loss: 0.0050\n",
      "Epoch 82/100\n",
      "5/5 [==============================] - 0s 45ms/step - loss: 0.0023 - val_loss: 0.0051\n",
      "Epoch 83/100\n",
      "5/5 [==============================] - 0s 41ms/step - loss: 0.0019 - val_loss: 0.0053\n"
     ]
    },
    {
     "name": "stdout",
     "output_type": "stream",
     "text": [
      "Epoch 84/100\n",
      "5/5 [==============================] - 0s 36ms/step - loss: 0.0019 - val_loss: 0.0055\n",
      "Epoch 85/100\n",
      "5/5 [==============================] - 0s 36ms/step - loss: 0.0021 - val_loss: 0.0051\n",
      "Epoch 86/100\n",
      "5/5 [==============================] - 0s 35ms/step - loss: 0.0022 - val_loss: 0.0052\n",
      "Epoch 87/100\n",
      "5/5 [==============================] - 0s 39ms/step - loss: 0.0020 - val_loss: 0.0050\n",
      "Epoch 88/100\n",
      "5/5 [==============================] - 0s 40ms/step - loss: 0.0022 - val_loss: 0.0055\n",
      "Epoch 89/100\n",
      "5/5 [==============================] - 0s 57ms/step - loss: 0.0023 - val_loss: 0.0052\n",
      "Epoch 90/100\n",
      "5/5 [==============================] - 0s 45ms/step - loss: 0.0020 - val_loss: 0.0056\n",
      "Epoch 91/100\n",
      "5/5 [==============================] - 0s 40ms/step - loss: 0.0023 - val_loss: 0.0054\n",
      "Epoch 92/100\n",
      "5/5 [==============================] - 0s 42ms/step - loss: 0.0023 - val_loss: 0.0058\n",
      "Epoch 93/100\n",
      "5/5 [==============================] - 0s 40ms/step - loss: 0.0027 - val_loss: 0.0051\n",
      "Epoch 94/100\n",
      "5/5 [==============================] - 0s 41ms/step - loss: 0.0020 - val_loss: 0.0054\n",
      "Epoch 95/100\n",
      "5/5 [==============================] - 0s 43ms/step - loss: 0.0019 - val_loss: 0.0060\n",
      "Epoch 96/100\n",
      "5/5 [==============================] - 0s 41ms/step - loss: 0.0019 - val_loss: 0.0054\n",
      "Epoch 97/100\n",
      "5/5 [==============================] - 0s 43ms/step - loss: 0.0021 - val_loss: 0.0049\n",
      "Epoch 98/100\n",
      "5/5 [==============================] - 0s 40ms/step - loss: 0.0019 - val_loss: 0.0059\n",
      "Epoch 99/100\n",
      "5/5 [==============================] - 0s 46ms/step - loss: 0.0022 - val_loss: 0.0062\n",
      "Epoch 100/100\n",
      "5/5 [==============================] - 0s 49ms/step - loss: 0.0020 - val_loss: 0.0057\n"
     ]
    }
   ],
   "source": [
    "model_history = model.fit(x_train, y_train, batch_size = 20, epochs = 100, validation_data = (x_test, y_test), verbose = 1,)"
   ]
  },
  {
   "cell_type": "markdown",
   "metadata": {},
   "source": [
    "## Prediction"
   ]
  },
  {
   "cell_type": "code",
   "execution_count": 29,
   "metadata": {},
   "outputs": [
    {
     "name": "stdout",
     "output_type": "stream",
     "text": [
      "1/1 [==============================] - 1s 978ms/step\n"
     ]
    }
   ],
   "source": [
    "y_pred = model.predict(x_test)"
   ]
  },
  {
   "cell_type": "code",
   "execution_count": 30,
   "metadata": {},
   "outputs": [
    {
     "name": "stdout",
     "output_type": "stream",
     "text": [
      "(13, 1)\n"
     ]
    }
   ],
   "source": [
    "print(y_pred.shape)"
   ]
  },
  {
   "cell_type": "code",
   "execution_count": 31,
   "metadata": {},
   "outputs": [],
   "source": [
    "y_pred = scaler.inverse_transform(y_pred)"
   ]
  },
  {
   "cell_type": "code",
   "execution_count": 32,
   "metadata": {},
   "outputs": [
    {
     "name": "stdout",
     "output_type": "stream",
     "text": [
      "[[148.40855]\n",
      " [148.26813]\n",
      " [148.09201]\n",
      " [147.88977]\n",
      " [147.70563]\n",
      " [147.7703 ]\n",
      " [147.65068]\n",
      " [148.04836]\n",
      " [148.6714 ]\n",
      " [148.83392]\n",
      " [148.53528]\n",
      " [148.18304]\n",
      " [148.09306]]\n"
     ]
    }
   ],
   "source": [
    "print(y_pred)"
   ]
  },
  {
   "cell_type": "code",
   "execution_count": 33,
   "metadata": {},
   "outputs": [
    {
     "name": "stdout",
     "output_type": "stream",
     "text": [
      "(13,)\n"
     ]
    }
   ],
   "source": [
    "print(y_test.shape)"
   ]
  },
  {
   "cell_type": "markdown",
   "metadata": {},
   "source": [
    "Note: The y_test is in the form of a 1D array, but it needs to convert it into 2D array\n",
    "So, we need to reshape it to use in the scaler.inverse_transform function"
   ]
  },
  {
   "cell_type": "code",
   "execution_count": 34,
   "metadata": {},
   "outputs": [],
   "source": [
    "y_test = y_test.reshape(-1, 1)                                # -1 here says the first agument from the y_test.shape will remain the same i.e to say we've 13 rows. The last number (i.e 1) says, it'll add one column to it. "
   ]
  },
  {
   "cell_type": "code",
   "execution_count": 35,
   "metadata": {},
   "outputs": [],
   "source": [
    "y_test = scaler.inverse_transform(y_test)"
   ]
  },
  {
   "cell_type": "code",
   "execution_count": 36,
   "metadata": {},
   "outputs": [
    {
     "name": "stdout",
     "output_type": "stream",
     "text": [
      "[[153.11 ]\n",
      " [152.12 ]\n",
      " [150.952]\n",
      " [149.46 ]\n",
      " [153.775]\n",
      " [153.88 ]\n",
      " [150.64 ]\n",
      " [152.575]\n",
      " [148.03 ]\n",
      " [148.9  ]\n",
      " [143.97 ]\n",
      " [142.7  ]\n",
      " [144.955]]\n"
     ]
    }
   ],
   "source": [
    "print(y_test)"
   ]
  },
  {
   "cell_type": "code",
   "execution_count": 37,
   "metadata": {},
   "outputs": [
    {
     "data": {
      "image/png": "[encoded data removed]",
      "text/plain": [
       "<Figure size 600x500 with 1 Axes>"
      ]
     },
     "metadata": {},
     "output_type": "display_data"
    }
   ],
   "source": [
    "plt.figure(figsize = (6,5))\n",
    "plt.plot(y_test, color = 'red', label = 'Historical Apple Stock Prices')\n",
    "plt.plot(y_pred, color = 'green', label = 'Predicted Apple Stock Price')\n",
    "plt.title('Apple Stock Prices')\n",
    "plt.ylim(140, 160)\n",
    "plt.xlabel('Date')\n",
    "plt.ylabel('Stock Price')\n",
    "plt.legend()\n",
    "plt.show()"
   ]
  },
  {
   "cell_type": "markdown",
   "metadata": {},
   "source": [
    "## Prediction on new test data"
   ]
  },
  {
   "cell_type": "code",
   "execution_count": 38,
   "metadata": {},
   "outputs": [],
   "source": [
    "# Predict the stock price from an array of ten new stock prices\n",
    "new_array = np.array([142, 141, 140, 143, 144, 146, 148, 149, 149, 148])"
   ]
  },
  {
   "cell_type": "markdown",
   "metadata": {},
   "source": [
    "Here, I need to convert the above array into a 2D array in order to use scaler.fit_transform function."
   ]
  },
  {
   "cell_type": "code",
   "execution_count": 39,
   "metadata": {},
   "outputs": [],
   "source": [
    "new_array = new_array.reshape(-1,1)"
   ]
  },
  {
   "cell_type": "code",
   "execution_count": 40,
   "metadata": {},
   "outputs": [
    {
     "name": "stdout",
     "output_type": "stream",
     "text": [
      "[[142]\n",
      " [141]\n",
      " [140]\n",
      " [143]\n",
      " [144]\n",
      " [146]\n",
      " [148]\n",
      " [149]\n",
      " [149]\n",
      " [148]]\n"
     ]
    }
   ],
   "source": [
    "print(new_array)"
   ]
  },
  {
   "cell_type": "code",
   "execution_count": 41,
   "metadata": {},
   "outputs": [
    {
     "name": "stdout",
     "output_type": "stream",
     "text": [
      "(10, 1)\n"
     ]
    }
   ],
   "source": [
    "print(new_array.shape)"
   ]
  },
  {
   "cell_type": "code",
   "execution_count": 42,
   "metadata": {},
   "outputs": [],
   "source": [
    "new_array_scaled = scaler.fit_transform(new_array)"
   ]
  },
  {
   "cell_type": "code",
   "execution_count": 43,
   "metadata": {},
   "outputs": [],
   "source": [
    "new_array_scaled = np.reshape(new_array_scaled, (1,10, 1))"
   ]
  },
  {
   "cell_type": "code",
   "execution_count": 44,
   "metadata": {},
   "outputs": [
    {
     "name": "stdout",
     "output_type": "stream",
     "text": [
      "(1, 10, 1)\n"
     ]
    }
   ],
   "source": [
    "print(new_array_scaled.shape)"
   ]
  },
  {
   "cell_type": "code",
   "execution_count": 45,
   "metadata": {},
   "outputs": [
    {
     "name": "stdout",
     "output_type": "stream",
     "text": [
      "[[[0.22222222]\n",
      "  [0.11111111]\n",
      "  [0.        ]\n",
      "  [0.33333333]\n",
      "  [0.44444444]\n",
      "  [0.66666667]\n",
      "  [0.88888889]\n",
      "  [1.        ]\n",
      "  [1.        ]\n",
      "  [0.88888889]]]\n"
     ]
    }
   ],
   "source": [
    "print(new_array_scaled)"
   ]
  },
  {
   "cell_type": "code",
   "execution_count": 46,
   "metadata": {},
   "outputs": [
    {
     "name": "stdout",
     "output_type": "stream",
     "text": [
      "1/1 [==============================] - 0s 52ms/step\n"
     ]
    }
   ],
   "source": [
    "# Get the predicted stock price in scaled format\n",
    "new_pred = model.predict(new_array_scaled)"
   ]
  },
  {
   "cell_type": "code",
   "execution_count": 47,
   "metadata": {},
   "outputs": [],
   "source": [
    "# Inverse transform to get the real stock price\n",
    "new_pred = scaler.inverse_transform(new_pred)"
   ]
  },
  {
   "cell_type": "code",
   "execution_count": 48,
   "metadata": {},
   "outputs": [
    {
     "name": "stdout",
     "output_type": "stream",
     "text": [
      "[[141.4404]]\n"
     ]
    }
   ],
   "source": [
    "print(new_pred)"
   ]
  },
  {
   "cell_type": "code",
   "execution_count": 49,
   "metadata": {},
   "outputs": [
    {
     "name": "stdout",
     "output_type": "stream",
     "text": [
      "The predicted stock price: 141.4404\n"
     ]
    }
   ],
   "source": [
    "print(\"The predicted stock price:\", *new_pred[0]) # Remove the brackets"
   ]
  },
  {
   "cell_type": "markdown",
   "metadata": {},
   "source": [
    "## Summary"
   ]
  },
  {
   "cell_type": "markdown",
   "metadata": {},
   "source": [
    "In this project, I used Tensorflow library along with Keras to predict Apple stock price. The data was imported from Nasdaq website, separated into feature and label data, scaled by MinMaxScaler. I took 10 historic data to predict 11th day stock price. RNN-LSTM model was chosen for this prediction, different layers of the model were built, compiled. The model was tested on the test data. Finally a prediction was also mode on unseen data.      "
   ]
  }
 ],
 "metadata": {
  "kernelspec": {
   "display_name": "Python 3 (ipykernel)",
   "language": "python",
   "name": "python3"
  },
  "language_info": {
   "codemirror_mode": {
    "name": "ipython",
    "version": 3
   },
   "file_extension": ".py",
   "mimetype": "text/x-python",
   "name": "python",
   "nbconvert_exporter": "python",
   "pygments_lexer": "ipython3",
   "version": "3.11.3"
  }
 },
 "nbformat": 4,
 "nbformat_minor": 2
}
